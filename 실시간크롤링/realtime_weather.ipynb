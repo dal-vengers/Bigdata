{
 "cells": [
  {
   "cell_type": "code",
   "execution_count": 4,
   "id": "e46a7510",
   "metadata": {},
   "outputs": [],
   "source": [
    "import pandas as pd\n",
    "from bs4 import BeautifulSoup\n",
    "import requests, json\n",
    "import time"
   ]
  },
  {
   "cell_type": "code",
   "execution_count": 5,
   "id": "be0572c9",
   "metadata": {},
   "outputs": [],
   "source": [
    "from IPython.core.interactiveshell import InteractiveShell\n",
    "InteractiveShell.ast_node_interactivity=\"all\""
   ]
  },
  {
   "cell_type": "code",
   "execution_count": 6,
   "id": "cef15c21",
   "metadata": {},
   "outputs": [
    {
     "name": "stdout",
     "output_type": "stream",
     "text": [
      "{'location': '강남구', 'datatime': '2023-02-04 11:00', 'pm10': '2', 'pm25': '2', 'weather': '구름', 'temp': 273.88, 'humidity': 43}\n"
     ]
    }
   ],
   "source": [
    "def real_time_wt():\n",
    "    # gps 정보\n",
    "    lat = \"37.517445953351\"\n",
    "    lon = \"127.046798553125\"\n",
    "    \n",
    "    # 지역구 설정\n",
    "    url = \"https://dapi.kakao.com/v2/local/geo/coord2regioncode.json?x=\"+lon+\"&y=\"+lat+\"&input_coord=WGS84\"\n",
    "    headers = {\"Authorization\": \"KakaoAK \" +\"인증키\"}\n",
    "    api_test = requests.get(url,headers=headers)\n",
    "    url_text = json.loads(api_test.text)\n",
    "    location = url_text['documents'][0]['region_2depth_name']\n",
    "\n",
    "\n",
    "    ## 미세먼지 정보\n",
    "    url = \"https://api.odcloud.kr/api/RltmArpltnInforInqireSvrc/v1/getMsrstnAcctoRltmMesureDnsty?numOfRows=1&stationName=\"+location+\"&dataTerm=DAILY&ver=1.3&serviceKey=\"\n",
    "    key = \"인증키\"\n",
    "    url_1 = url+key # 지역 설정은 아직 안함.\n",
    "\n",
    "    html = requests.get(url_1).content\n",
    "\n",
    "    soup = BeautifulSoup(html,\"html.parser\")\n",
    "\n",
    "    datatime = soup.find('datatime').text\n",
    "    pm10 = soup.find('pm10grade1h').text\n",
    "    pm25 = soup.find('pm25grade1h').text\n",
    "\n",
    "    ### 온습도 정보\n",
    "\n",
    "    apiKey = \"인증키\"\n",
    "    api = f\"https://api.openweathermap.org/data/2.5/weather?lat=\"+lat+\"&lon=\"+lon+\"&appid=\"+apiKey\n",
    "\n",
    "    result = requests.get(api).content\n",
    "    soup = BeautifulSoup(result, \"html.parser\")\n",
    "    soup\n",
    "\n",
    "    json_object = json.loads(str(soup))\n",
    "    weather = json_object['weather'][0]['main']\n",
    "    temp = json_object['main']['temp']\n",
    "    humidity = json_object['main']['humidity']\n",
    "    \n",
    "\n",
    "    if weather.lower() in \"clouds\":\n",
    "        weather = \"구름\"\n",
    "    elif weather.lower() in \"rain\":\n",
    "        weather = \"비\" \n",
    "    elif weather.lower() in \"snow\":\n",
    "        weather = \"눈\"\n",
    "    elif weather.lower() in \"clear\":\n",
    "        weather = \"맑음\"\n",
    "    elif weather.lower() in \"mist\":\n",
    "        weather = \"안개\"\n",
    "    else:\n",
    "        pass\n",
    "    context = {\n",
    "        \"location\" : location,\n",
    "        \"datatime\" : datatime,\n",
    "        \"pm10\" : pm10,\n",
    "        \"pm25\" : pm25,\n",
    "        \"weather\" : weather,\n",
    "        \"temp\" : temp,\n",
    "        \"humidity\" : humidity,\n",
    "    }\n",
    "    \n",
    "    return context\n",
    "\n",
    "result = real_time_wt()\n",
    "\n",
    "print(result)"
   ]
  },
  {
   "cell_type": "code",
   "execution_count": null,
   "id": "2afdb372",
   "metadata": {},
   "outputs": [],
   "source": []
  },
  {
   "cell_type": "code",
   "execution_count": null,
   "id": "f2f68358",
   "metadata": {},
   "outputs": [],
   "source": []
  }
 ],
 "metadata": {
  "kernelspec": {
   "display_name": "eduvenv",
   "language": "python",
   "name": "eduvenv"
  },
  "language_info": {
   "codemirror_mode": {
    "name": "ipython",
    "version": 3
   },
   "file_extension": ".py",
   "mimetype": "text/x-python",
   "name": "python",
   "nbconvert_exporter": "python",
   "pygments_lexer": "ipython3",
   "version": "3.9.15"
  }
 },
 "nbformat": 4,
 "nbformat_minor": 5
}
