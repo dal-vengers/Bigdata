{
 "cells": [
  {
   "cell_type": "code",
   "execution_count": 6,
   "id": "f4d7597d",
   "metadata": {},
   "outputs": [],
   "source": [
    "import pandas as pd\n",
    "import numpy as np\n",
    "import matplotlib.pyplot as plt\n",
    "import seaborn as sns"
   ]
  },
  {
   "cell_type": "code",
   "execution_count": 7,
   "id": "2b2e17da",
   "metadata": {},
   "outputs": [],
   "source": [
    "from bs4 import BeautifulSoup # 파싱객체 모듈\n",
    "import urllib.request as req # 통신 모듈\n",
    "import requests\n",
    "import urllib\n",
    "from selenium import webdriver\n",
    "from selenium.webdriver.common.by import By\n",
    "from selenium.webdriver.chrome.service import Service\n",
    "import time\n",
    "import requests, json"
   ]
  },
  {
   "cell_type": "code",
   "execution_count": 8,
   "id": "79059cb5",
   "metadata": {},
   "outputs": [],
   "source": [
    "import platform\n",
    "\n",
    "from matplotlib import font_manager, rc\n",
    "plt.rcParams['axes.unicode_minus'] = False\n",
    "\n",
    "if platform.system() == 'Darwin':  # 맥OS \n",
    "    rc('font', family='AppleGothic')\n",
    "elif platform.system() == 'Windows':  # 윈도우\n",
    "    path = \"c:/Windows/Fonts/malgun.ttf\"\n",
    "    font_name = font_manager.FontProperties(fname=path).get_name()\n",
    "    rc('font', family=font_name)\n",
    "else:\n",
    "    print('Unknown system...  sorry~~~')"
   ]
  },
  {
   "cell_type": "code",
   "execution_count": 86,
   "id": "9c443ad5",
   "metadata": {},
   "outputs": [],
   "source": [
    "from IPython.core.interactiveshell import InteractiveShell\n",
    "InteractiveShell.ast_node_interactivity=\"all\""
   ]
  },
  {
   "cell_type": "code",
   "execution_count": 147,
   "id": "7229d8fb",
   "metadata": {},
   "outputs": [],
   "source": [
    "driver = webdriver.Chrome(service = Service(\"C:/Temp/chromedriver\"))\n",
    "driver.implicitly_wait(3)\n",
    "driver.get(\"https://shop.yeogida-dog.com/dangcash/map?b_region=seoul&m_region=22&category=1&c=n\")"
   ]
  },
  {
   "cell_type": "code",
   "execution_count": 148,
   "id": "63de217b",
   "metadata": {},
   "outputs": [],
   "source": [
    "# 담을 리스트\n",
    "dog_place_name = []\n",
    "dog_place_addr = []"
   ]
  },
  {
   "cell_type": "code",
   "execution_count": 156,
   "id": "c0f878e5",
   "metadata": {
    "scrolled": true
   },
   "outputs": [
    {
     "name": "stdout",
     "output_type": "stream",
     "text": [
      "도그버디 이수점\n",
      "📍 서울특별시 동작구 사당동 128-47\n",
      "꼬리치는 강아지\n",
      "📍 서울특별시 동작구 상도동 34-11 1층\n",
      "도그앤프릭스\n",
      "📍 서울특별시 동작구 신대방동 347-13\n",
      "스프링펫\n",
      "📍 서울특별시 동작구 상도동 324-68\n",
      "콩쿤샵\n",
      "📍 서울특별시 동작구 상도동 210-385\n",
      "한끼멍냥\n",
      "📍 서울특별시 동작구 신대방동 692-65 2층\n",
      "커들리 수제간식\n",
      "📍 서울특별시 동작구 사당동 1034-41 CUDDLY\n",
      "댕쁘앙\n",
      "📍 서울특별시 동작구 상도1동 765 1층\n",
      "꼬리치는강아지성대시장점\n",
      "📍 서울특별시 동작구 상도동 250-6\n"
     ]
    },
    {
     "ename": "NoSuchElementException",
     "evalue": "Message: no such element: Unable to locate element: {\"method\":\"css selector\",\"selector\":\"#place_popup > a:nth-child(19) > div.div-content > div.popup-content > p.title\"}\n  (Session info: chrome=108.0.5359.125)\nStacktrace:\nBacktrace:\n\tOrdinal0 [0x0113ACD3+2075859]\n\tOrdinal0 [0x010CEE61+1633889]\n\tOrdinal0 [0x00FCB7BD+571325]\n\tOrdinal0 [0x00FFAC2F+764975]\n\tOrdinal0 [0x00FFAE1B+765467]\n\tOrdinal0 [0x0102D0F2+970994]\n\tOrdinal0 [0x01017364+881508]\n\tOrdinal0 [0x0102B56A+963946]\n\tOrdinal0 [0x01017136+880950]\n\tOrdinal0 [0x00FEFEFD+720637]\n\tOrdinal0 [0x00FF0F3F+724799]\n\tGetHandleVerifier [0x013EEED2+2769538]\n\tGetHandleVerifier [0x013E0D95+2711877]\n\tGetHandleVerifier [0x011CA03A+521194]\n\tGetHandleVerifier [0x011C8DA0+516432]\n\tOrdinal0 [0x010D682C+1665068]\n\tOrdinal0 [0x010DB128+1683752]\n\tOrdinal0 [0x010DB215+1683989]\n\tOrdinal0 [0x010E6484+1729668]\n\tBaseThreadInitThunk [0x769500F9+25]\n\tRtlGetAppContainerNamedObjectPath [0x77287BBE+286]\n\tRtlGetAppContainerNamedObjectPath [0x77287B8E+238]\n",
     "output_type": "error",
     "traceback": [
      "\u001b[1;31m---------------------------------------------------------------------------\u001b[0m",
      "\u001b[1;31mNoSuchElementException\u001b[0m                    Traceback (most recent call last)",
      "Cell \u001b[1;32mIn [156], line 8\u001b[0m\n\u001b[0;32m      4\u001b[0m time\u001b[38;5;241m.\u001b[39msleep(\u001b[38;5;241m1\u001b[39m)\n\u001b[0;32m      5\u001b[0m \u001b[38;5;28;01mfor\u001b[39;00m i \u001b[38;5;129;01min\u001b[39;00m \u001b[38;5;28mrange\u001b[39m(\u001b[38;5;241m1\u001b[39m,\u001b[38;5;241m51\u001b[39m,\u001b[38;5;241m2\u001b[39m):\n\u001b[0;32m      6\u001b[0m     \n\u001b[0;32m      7\u001b[0m     \u001b[38;5;66;03m# 매장 이름\u001b[39;00m\n\u001b[1;32m----> 8\u001b[0m     place_name \u001b[38;5;241m=\u001b[39m \u001b[43mdriver\u001b[49m\u001b[38;5;241;43m.\u001b[39;49m\u001b[43mfind_element\u001b[49m\u001b[43m(\u001b[49m\u001b[43mBy\u001b[49m\u001b[38;5;241;43m.\u001b[39;49m\u001b[43mCSS_SELECTOR\u001b[49m\u001b[43m,\u001b[49m\u001b[38;5;124;43m\"\u001b[39;49m\u001b[38;5;124;43m#place_popup > a:nth-child(\u001b[39;49m\u001b[38;5;124;43m\"\u001b[39;49m\u001b[38;5;241;43m+\u001b[39;49m\u001b[38;5;28;43mstr\u001b[39;49m\u001b[43m(\u001b[49m\u001b[43mi\u001b[49m\u001b[43m)\u001b[49m\u001b[38;5;241;43m+\u001b[39;49m\u001b[38;5;124;43m\"\u001b[39;49m\u001b[38;5;124;43m) > div.div-content > div.popup-content > p.title\u001b[39;49m\u001b[38;5;124;43m\"\u001b[39;49m\u001b[43m)\u001b[49m\n\u001b[0;32m      9\u001b[0m     dog_place_name\u001b[38;5;241m.\u001b[39mappend(place_name\u001b[38;5;241m.\u001b[39mtext)\n\u001b[0;32m     10\u001b[0m     \u001b[38;5;28mprint\u001b[39m(place_name\u001b[38;5;241m.\u001b[39mtext)\n",
      "File \u001b[1;32m~\\anaconda3\\envs\\data_venv\\lib\\site-packages\\selenium\\webdriver\\remote\\webdriver.py:861\u001b[0m, in \u001b[0;36mWebDriver.find_element\u001b[1;34m(self, by, value)\u001b[0m\n\u001b[0;32m    858\u001b[0m     by \u001b[38;5;241m=\u001b[39m By\u001b[38;5;241m.\u001b[39mCSS_SELECTOR\n\u001b[0;32m    859\u001b[0m     value \u001b[38;5;241m=\u001b[39m \u001b[38;5;124m'\u001b[39m\u001b[38;5;124m[name=\u001b[39m\u001b[38;5;124m\"\u001b[39m\u001b[38;5;132;01m%s\u001b[39;00m\u001b[38;5;124m\"\u001b[39m\u001b[38;5;124m]\u001b[39m\u001b[38;5;124m'\u001b[39m \u001b[38;5;241m%\u001b[39m value\n\u001b[1;32m--> 861\u001b[0m \u001b[38;5;28;01mreturn\u001b[39;00m \u001b[38;5;28;43mself\u001b[39;49m\u001b[38;5;241;43m.\u001b[39;49m\u001b[43mexecute\u001b[49m\u001b[43m(\u001b[49m\u001b[43mCommand\u001b[49m\u001b[38;5;241;43m.\u001b[39;49m\u001b[43mFIND_ELEMENT\u001b[49m\u001b[43m,\u001b[49m\u001b[43m \u001b[49m\u001b[43m{\u001b[49m\u001b[38;5;124;43m\"\u001b[39;49m\u001b[38;5;124;43musing\u001b[39;49m\u001b[38;5;124;43m\"\u001b[39;49m\u001b[43m:\u001b[49m\u001b[43m \u001b[49m\u001b[43mby\u001b[49m\u001b[43m,\u001b[49m\u001b[43m \u001b[49m\u001b[38;5;124;43m\"\u001b[39;49m\u001b[38;5;124;43mvalue\u001b[39;49m\u001b[38;5;124;43m\"\u001b[39;49m\u001b[43m:\u001b[49m\u001b[43m \u001b[49m\u001b[43mvalue\u001b[49m\u001b[43m}\u001b[49m\u001b[43m)\u001b[49m[\u001b[38;5;124m\"\u001b[39m\u001b[38;5;124mvalue\u001b[39m\u001b[38;5;124m\"\u001b[39m]\n",
      "File \u001b[1;32m~\\anaconda3\\envs\\data_venv\\lib\\site-packages\\selenium\\webdriver\\remote\\webdriver.py:444\u001b[0m, in \u001b[0;36mWebDriver.execute\u001b[1;34m(self, driver_command, params)\u001b[0m\n\u001b[0;32m    442\u001b[0m response \u001b[38;5;241m=\u001b[39m \u001b[38;5;28mself\u001b[39m\u001b[38;5;241m.\u001b[39mcommand_executor\u001b[38;5;241m.\u001b[39mexecute(driver_command, params)\n\u001b[0;32m    443\u001b[0m \u001b[38;5;28;01mif\u001b[39;00m response:\n\u001b[1;32m--> 444\u001b[0m     \u001b[38;5;28;43mself\u001b[39;49m\u001b[38;5;241;43m.\u001b[39;49m\u001b[43merror_handler\u001b[49m\u001b[38;5;241;43m.\u001b[39;49m\u001b[43mcheck_response\u001b[49m\u001b[43m(\u001b[49m\u001b[43mresponse\u001b[49m\u001b[43m)\u001b[49m\n\u001b[0;32m    445\u001b[0m     response[\u001b[38;5;124m\"\u001b[39m\u001b[38;5;124mvalue\u001b[39m\u001b[38;5;124m\"\u001b[39m] \u001b[38;5;241m=\u001b[39m \u001b[38;5;28mself\u001b[39m\u001b[38;5;241m.\u001b[39m_unwrap_value(response\u001b[38;5;241m.\u001b[39mget(\u001b[38;5;124m\"\u001b[39m\u001b[38;5;124mvalue\u001b[39m\u001b[38;5;124m\"\u001b[39m, \u001b[38;5;28;01mNone\u001b[39;00m))\n\u001b[0;32m    446\u001b[0m     \u001b[38;5;28;01mreturn\u001b[39;00m response\n",
      "File \u001b[1;32m~\\anaconda3\\envs\\data_venv\\lib\\site-packages\\selenium\\webdriver\\remote\\errorhandler.py:249\u001b[0m, in \u001b[0;36mErrorHandler.check_response\u001b[1;34m(self, response)\u001b[0m\n\u001b[0;32m    247\u001b[0m         alert_text \u001b[38;5;241m=\u001b[39m value[\u001b[38;5;124m\"\u001b[39m\u001b[38;5;124malert\u001b[39m\u001b[38;5;124m\"\u001b[39m]\u001b[38;5;241m.\u001b[39mget(\u001b[38;5;124m\"\u001b[39m\u001b[38;5;124mtext\u001b[39m\u001b[38;5;124m\"\u001b[39m)\n\u001b[0;32m    248\u001b[0m     \u001b[38;5;28;01mraise\u001b[39;00m exception_class(message, screen, stacktrace, alert_text)  \u001b[38;5;66;03m# type: ignore[call-arg]  # mypy is not smart enough here\u001b[39;00m\n\u001b[1;32m--> 249\u001b[0m \u001b[38;5;28;01mraise\u001b[39;00m exception_class(message, screen, stacktrace)\n",
      "\u001b[1;31mNoSuchElementException\u001b[0m: Message: no such element: Unable to locate element: {\"method\":\"css selector\",\"selector\":\"#place_popup > a:nth-child(19) > div.div-content > div.popup-content > p.title\"}\n  (Session info: chrome=108.0.5359.125)\nStacktrace:\nBacktrace:\n\tOrdinal0 [0x0113ACD3+2075859]\n\tOrdinal0 [0x010CEE61+1633889]\n\tOrdinal0 [0x00FCB7BD+571325]\n\tOrdinal0 [0x00FFAC2F+764975]\n\tOrdinal0 [0x00FFAE1B+765467]\n\tOrdinal0 [0x0102D0F2+970994]\n\tOrdinal0 [0x01017364+881508]\n\tOrdinal0 [0x0102B56A+963946]\n\tOrdinal0 [0x01017136+880950]\n\tOrdinal0 [0x00FEFEFD+720637]\n\tOrdinal0 [0x00FF0F3F+724799]\n\tGetHandleVerifier [0x013EEED2+2769538]\n\tGetHandleVerifier [0x013E0D95+2711877]\n\tGetHandleVerifier [0x011CA03A+521194]\n\tGetHandleVerifier [0x011C8DA0+516432]\n\tOrdinal0 [0x010D682C+1665068]\n\tOrdinal0 [0x010DB128+1683752]\n\tOrdinal0 [0x010DB215+1683989]\n\tOrdinal0 [0x010E6484+1729668]\n\tBaseThreadInitThunk [0x769500F9+25]\n\tRtlGetAppContainerNamedObjectPath [0x77287BBE+286]\n\tRtlGetAppContainerNamedObjectPath [0x77287B8E+238]\n"
     ]
    }
   ],
   "source": [
    "# 해당 코드를 매장 카테고리 별로 돌려서 사용함\n",
    "# 리스트 열기\n",
    "place_list = driver.find_element(By.CSS_SELECTOR,\"body > div.app-wrapper > div > div.map-footer > div > div > div:nth-child(1) > button\")\n",
    "place_list.click()\n",
    "time.sleep(1)\n",
    "for i in range(1,51,2):\n",
    "    \n",
    "    # 매장 이름\n",
    "    place_name = driver.find_element(By.CSS_SELECTOR,\"#place_popup > a:nth-child(\"+str(i)+\") > div.div-content > div.popup-content > p.title\")\n",
    "    dog_place_name.append(place_name.text)\n",
    "    print(place_name.text)\n",
    "    \n",
    "    # 매장 주소 정보 페이지 클릭\n",
    "    place_page = driver.find_element(By.CSS_SELECTOR,\"#place_popup > a:nth-child(\"+str(i)+\")\")\n",
    "    place_page.click()\n",
    "    time.sleep(1)\n",
    "    \n",
    "    # 매장 주소 탭으로 이동\n",
    "    driver.switch_to.window(driver.window_handles[-1])\n",
    "    \n",
    "    # 매장 주소 크롤링\n",
    "    place_add = driver.find_element(By.CSS_SELECTOR,\"body > div > div > div.p_info > p:nth-child(5)\")\n",
    "    dog_place_addr.append(place_add.text)\n",
    "    print(place_add.text)\n",
    "    # 매장주소 탭 닫기\n",
    "    \n",
    "    driver.close()\n",
    "    time.sleep(1)\n",
    "    # 리스트로 복귀\n",
    "    driver.switch_to.window(driver.window_handles[-1])"
   ]
  },
  {
   "cell_type": "markdown",
   "id": "1eb56ffa",
   "metadata": {},
   "source": [
    "### 간식&용품점"
   ]
  },
  {
   "cell_type": "code",
   "execution_count": 157,
   "id": "7ce01533",
   "metadata": {},
   "outputs": [
    {
     "data": {
      "text/plain": [
       "39"
      ]
     },
     "execution_count": 157,
     "metadata": {},
     "output_type": "execute_result"
    }
   ],
   "source": [
    "len(dog_place_name)"
   ]
  },
  {
   "cell_type": "code",
   "execution_count": 158,
   "id": "04025928",
   "metadata": {},
   "outputs": [
    {
     "data": {
      "text/plain": [
       "39"
      ]
     },
     "execution_count": 158,
     "metadata": {},
     "output_type": "execute_result"
    }
   ],
   "source": [
    "len(dog_place_addr)"
   ]
  },
  {
   "cell_type": "code",
   "execution_count": 159,
   "id": "b8bf87c3",
   "metadata": {},
   "outputs": [],
   "source": [
    "dog_cafe_result = pd.DataFrame({\"매장명\":dog_place_name,\"주소\":dog_place_addr})\n",
    "dog_cafe_result.to_csv(\"./data/간식용품점.csv\")"
   ]
  },
  {
   "cell_type": "markdown",
   "id": "25d899f1",
   "metadata": {},
   "source": [
    "### 무료운동장"
   ]
  },
  {
   "cell_type": "code",
   "execution_count": 135,
   "id": "b4ff120b",
   "metadata": {},
   "outputs": [
    {
     "data": {
      "text/plain": [
       "1"
      ]
     },
     "execution_count": 135,
     "metadata": {},
     "output_type": "execute_result"
    }
   ],
   "source": [
    "len(dog_place_name)"
   ]
  },
  {
   "cell_type": "code",
   "execution_count": 136,
   "id": "42d78b06",
   "metadata": {},
   "outputs": [
    {
     "data": {
      "text/plain": [
       "1"
      ]
     },
     "execution_count": 136,
     "metadata": {},
     "output_type": "execute_result"
    }
   ],
   "source": [
    "len(dog_place_addr)"
   ]
  },
  {
   "cell_type": "code",
   "execution_count": 137,
   "id": "3d519698",
   "metadata": {},
   "outputs": [],
   "source": [
    "dog_cafe_result = pd.DataFrame({\"매장명\":dog_place_name,\"주소\":dog_place_addr})\n",
    "dog_cafe_result.to_csv(\"./data/댕댕이무료운동장.csv\")"
   ]
  },
  {
   "cell_type": "markdown",
   "id": "6fb78743",
   "metadata": {},
   "source": [
    "### 동물병원"
   ]
  },
  {
   "cell_type": "code",
   "execution_count": 130,
   "id": "a4f489ed",
   "metadata": {},
   "outputs": [
    {
     "data": {
      "text/plain": [
       "69"
      ]
     },
     "execution_count": 130,
     "metadata": {},
     "output_type": "execute_result"
    }
   ],
   "source": [
    "len(dog_place_name)"
   ]
  },
  {
   "cell_type": "code",
   "execution_count": 131,
   "id": "0ed83178",
   "metadata": {},
   "outputs": [
    {
     "data": {
      "text/plain": [
       "69"
      ]
     },
     "execution_count": 131,
     "metadata": {},
     "output_type": "execute_result"
    }
   ],
   "source": [
    "len(dog_place_addr)"
   ]
  },
  {
   "cell_type": "code",
   "execution_count": 132,
   "id": "4dbbb302",
   "metadata": {},
   "outputs": [],
   "source": [
    "dog_cafe_result = pd.DataFrame({\"매장명\":dog_place_name,\"주소\":dog_place_addr})\n",
    "dog_cafe_result.to_csv(\"./data/동물병원.csv\")"
   ]
  },
  {
   "cell_type": "markdown",
   "id": "1bacd3a5",
   "metadata": {},
   "source": [
    "### 음식점"
   ]
  },
  {
   "cell_type": "code",
   "execution_count": 119,
   "id": "b10f49a2",
   "metadata": {},
   "outputs": [
    {
     "data": {
      "text/plain": [
       "61"
      ]
     },
     "execution_count": 119,
     "metadata": {},
     "output_type": "execute_result"
    }
   ],
   "source": [
    "len(dog_place_name)"
   ]
  },
  {
   "cell_type": "code",
   "execution_count": 120,
   "id": "c309cc56",
   "metadata": {},
   "outputs": [
    {
     "data": {
      "text/plain": [
       "61"
      ]
     },
     "execution_count": 120,
     "metadata": {},
     "output_type": "execute_result"
    }
   ],
   "source": [
    "len(dog_place_addr)"
   ]
  },
  {
   "cell_type": "code",
   "execution_count": 121,
   "id": "f376e99f",
   "metadata": {},
   "outputs": [],
   "source": [
    "dog_cafe_result = pd.DataFrame({\"매장명\":dog_place_name,\"주소\":dog_place_addr})\n",
    "dog_cafe_result.to_csv(\"./data/애견동반식당.csv\")"
   ]
  },
  {
   "cell_type": "markdown",
   "id": "3ce91600",
   "metadata": {},
   "source": [
    "### 동반카페"
   ]
  },
  {
   "cell_type": "code",
   "execution_count": 109,
   "id": "525f8556",
   "metadata": {},
   "outputs": [
    {
     "data": {
      "text/plain": [
       "108"
      ]
     },
     "execution_count": 109,
     "metadata": {},
     "output_type": "execute_result"
    }
   ],
   "source": [
    "len(dog_place_name)"
   ]
  },
  {
   "cell_type": "code",
   "execution_count": 110,
   "id": "be22d7ba",
   "metadata": {},
   "outputs": [
    {
     "data": {
      "text/plain": [
       "108"
      ]
     },
     "execution_count": 110,
     "metadata": {},
     "output_type": "execute_result"
    }
   ],
   "source": [
    "len(dog_place_addr)"
   ]
  },
  {
   "cell_type": "code",
   "execution_count": 111,
   "id": "c1e94bf2",
   "metadata": {},
   "outputs": [],
   "source": [
    "dog_cafe_result = pd.DataFrame({\"매장명\":dog_place_name,\"주소\":dog_place_addr})"
   ]
  },
  {
   "cell_type": "code",
   "execution_count": 112,
   "id": "c02224f7",
   "metadata": {},
   "outputs": [],
   "source": [
    "dog_cafe_result.to_csv(\"./data/애견동반카페.csv\")"
   ]
  },
  {
   "cell_type": "markdown",
   "id": "6bbc5aa6",
   "metadata": {},
   "source": [
    "### 애견카페"
   ]
  },
  {
   "cell_type": "code",
   "execution_count": 97,
   "id": "ae0f8090",
   "metadata": {
    "scrolled": false
   },
   "outputs": [
    {
     "data": {
      "text/plain": [
       "['펫타리움',\n",
       " '강아지똥 애견카페',\n",
       " '카페더왈츠',\n",
       " '봉브라더스',\n",
       " '전설의 강아지',\n",
       " '반려문화',\n",
       " '애니멀 고 파크',\n",
       " '다독인더 시티',\n",
       " '두젠틀',\n",
       " '어야가자애견카페',\n",
       " '개러리아 삼성본점',\n",
       " '글램독 그라운드 삼성점',\n",
       " '멍돌핀 애견카페',\n",
       " '드도그카페',\n",
       " '애니멀고파크 논현점',\n",
       " '놀로스퀘어',\n",
       " '감성놀이터',\n",
       " '두젠틀장승배기역점',\n",
       " '웰컴댕댕',\n",
       " '한끼멍냥']"
      ]
     },
     "execution_count": 97,
     "metadata": {},
     "output_type": "execute_result"
    }
   ],
   "source": [
    "dog_place_name"
   ]
  },
  {
   "cell_type": "code",
   "execution_count": 98,
   "id": "4784a24c",
   "metadata": {
    "scrolled": true
   },
   "outputs": [
    {
     "data": {
      "text/plain": [
       "['📍 서울특별시 강남구 청담동 68-7 6, 7층',\n",
       " '📍 서울특별시 강남구 논현동 170',\n",
       " '📍 서울특별시 강남구 역삼동 834-8',\n",
       " '📍 서울특별시 강남구 논현동 181-12 2층',\n",
       " '📍 서울특별시 강남구 논현동 265-23',\n",
       " '📍 서울특별시 강남구 논현동 85-13',\n",
       " '📍 서울특별시 강남구 삼성동 60-24',\n",
       " '📍 서울특별시 강남구 역삼동 608-23',\n",
       " '📍 서울특별시 강남구 역삼동 667-10',\n",
       " '📍 서울특별시 강남구 역삼동 662-1',\n",
       " '📍 서울특별시 강남구 삼성동 9-16',\n",
       " '📍 서울특별시 강남구 삼성동 152-69 1층 글램독 그라운드 삼성점',\n",
       " '📍 서울특별시 강남구 논현동 170-28 2층 멍돌핀',\n",
       " '📍 서울특별시 강남구 삼성동 150-19 2층 드도그카페',\n",
       " '📍 서울특별시 강남구 논현동 256-14',\n",
       " '📍 서울특별시 강남구 청담동 46 놀로스퀘어',\n",
       " '📍 서울특별시 동작구 상도로58길 4',\n",
       " '📍 서울특별시 동작구 상도동 26-27',\n",
       " '📍 서울특별시 동작구 대방동 17-20 2층 웰컴댕댕',\n",
       " '📍 서울특별시 동작구 신대방동 692-65 2층']"
      ]
     },
     "execution_count": 98,
     "metadata": {},
     "output_type": "execute_result"
    }
   ],
   "source": [
    "dog_place_addr"
   ]
  },
  {
   "cell_type": "code",
   "execution_count": 99,
   "id": "3163b0d7",
   "metadata": {},
   "outputs": [],
   "source": [
    "dog_cafe_result = pd.DataFrame({\"매장명\":dog_place_name,\"주소\":dog_place_addr})"
   ]
  },
  {
   "cell_type": "code",
   "execution_count": 100,
   "id": "86475a78",
   "metadata": {
    "scrolled": false
   },
   "outputs": [
    {
     "data": {
      "text/html": [
       "<div>\n",
       "<style scoped>\n",
       "    .dataframe tbody tr th:only-of-type {\n",
       "        vertical-align: middle;\n",
       "    }\n",
       "\n",
       "    .dataframe tbody tr th {\n",
       "        vertical-align: top;\n",
       "    }\n",
       "\n",
       "    .dataframe thead th {\n",
       "        text-align: right;\n",
       "    }\n",
       "</style>\n",
       "<table border=\"1\" class=\"dataframe\">\n",
       "  <thead>\n",
       "    <tr style=\"text-align: right;\">\n",
       "      <th></th>\n",
       "      <th>매장명</th>\n",
       "      <th>주소</th>\n",
       "    </tr>\n",
       "  </thead>\n",
       "  <tbody>\n",
       "    <tr>\n",
       "      <th>0</th>\n",
       "      <td>펫타리움</td>\n",
       "      <td>📍 서울특별시 강남구 청담동 68-7 6, 7층</td>\n",
       "    </tr>\n",
       "    <tr>\n",
       "      <th>1</th>\n",
       "      <td>강아지똥 애견카페</td>\n",
       "      <td>📍 서울특별시 강남구 논현동 170</td>\n",
       "    </tr>\n",
       "    <tr>\n",
       "      <th>2</th>\n",
       "      <td>카페더왈츠</td>\n",
       "      <td>📍 서울특별시 강남구 역삼동 834-8</td>\n",
       "    </tr>\n",
       "    <tr>\n",
       "      <th>3</th>\n",
       "      <td>봉브라더스</td>\n",
       "      <td>📍 서울특별시 강남구 논현동 181-12 2층</td>\n",
       "    </tr>\n",
       "    <tr>\n",
       "      <th>4</th>\n",
       "      <td>전설의 강아지</td>\n",
       "      <td>📍 서울특별시 강남구 논현동 265-23</td>\n",
       "    </tr>\n",
       "    <tr>\n",
       "      <th>5</th>\n",
       "      <td>반려문화</td>\n",
       "      <td>📍 서울특별시 강남구 논현동 85-13</td>\n",
       "    </tr>\n",
       "    <tr>\n",
       "      <th>6</th>\n",
       "      <td>애니멀 고 파크</td>\n",
       "      <td>📍 서울특별시 강남구 삼성동 60-24</td>\n",
       "    </tr>\n",
       "    <tr>\n",
       "      <th>7</th>\n",
       "      <td>다독인더 시티</td>\n",
       "      <td>📍 서울특별시 강남구 역삼동 608-23</td>\n",
       "    </tr>\n",
       "    <tr>\n",
       "      <th>8</th>\n",
       "      <td>두젠틀</td>\n",
       "      <td>📍 서울특별시 강남구 역삼동 667-10</td>\n",
       "    </tr>\n",
       "    <tr>\n",
       "      <th>9</th>\n",
       "      <td>어야가자애견카페</td>\n",
       "      <td>📍 서울특별시 강남구 역삼동 662-1</td>\n",
       "    </tr>\n",
       "    <tr>\n",
       "      <th>10</th>\n",
       "      <td>개러리아 삼성본점</td>\n",
       "      <td>📍 서울특별시 강남구 삼성동 9-16</td>\n",
       "    </tr>\n",
       "    <tr>\n",
       "      <th>11</th>\n",
       "      <td>글램독 그라운드 삼성점</td>\n",
       "      <td>📍 서울특별시 강남구 삼성동 152-69 1층 글램독 그라운드 삼성점</td>\n",
       "    </tr>\n",
       "    <tr>\n",
       "      <th>12</th>\n",
       "      <td>멍돌핀 애견카페</td>\n",
       "      <td>📍 서울특별시 강남구 논현동 170-28 2층 멍돌핀</td>\n",
       "    </tr>\n",
       "    <tr>\n",
       "      <th>13</th>\n",
       "      <td>드도그카페</td>\n",
       "      <td>📍 서울특별시 강남구 삼성동 150-19 2층 드도그카페</td>\n",
       "    </tr>\n",
       "    <tr>\n",
       "      <th>14</th>\n",
       "      <td>애니멀고파크 논현점</td>\n",
       "      <td>📍 서울특별시 강남구 논현동 256-14</td>\n",
       "    </tr>\n",
       "    <tr>\n",
       "      <th>15</th>\n",
       "      <td>놀로스퀘어</td>\n",
       "      <td>📍 서울특별시 강남구 청담동 46 놀로스퀘어</td>\n",
       "    </tr>\n",
       "    <tr>\n",
       "      <th>16</th>\n",
       "      <td>감성놀이터</td>\n",
       "      <td>📍 서울특별시 동작구 상도로58길 4</td>\n",
       "    </tr>\n",
       "    <tr>\n",
       "      <th>17</th>\n",
       "      <td>두젠틀장승배기역점</td>\n",
       "      <td>📍 서울특별시 동작구 상도동 26-27</td>\n",
       "    </tr>\n",
       "    <tr>\n",
       "      <th>18</th>\n",
       "      <td>웰컴댕댕</td>\n",
       "      <td>📍 서울특별시 동작구 대방동 17-20 2층 웰컴댕댕</td>\n",
       "    </tr>\n",
       "    <tr>\n",
       "      <th>19</th>\n",
       "      <td>한끼멍냥</td>\n",
       "      <td>📍 서울특별시 동작구 신대방동 692-65 2층</td>\n",
       "    </tr>\n",
       "  </tbody>\n",
       "</table>\n",
       "</div>"
      ],
      "text/plain": [
       "             매장명                                      주소\n",
       "0           펫타리움              📍 서울특별시 강남구 청담동 68-7 6, 7층\n",
       "1      강아지똥 애견카페                     📍 서울특별시 강남구 논현동 170\n",
       "2          카페더왈츠                   📍 서울특별시 강남구 역삼동 834-8\n",
       "3          봉브라더스               📍 서울특별시 강남구 논현동 181-12 2층\n",
       "4        전설의 강아지                  📍 서울특별시 강남구 논현동 265-23\n",
       "5           반려문화                   📍 서울특별시 강남구 논현동 85-13\n",
       "6       애니멀 고 파크                   📍 서울특별시 강남구 삼성동 60-24\n",
       "7        다독인더 시티                  📍 서울특별시 강남구 역삼동 608-23\n",
       "8            두젠틀                  📍 서울특별시 강남구 역삼동 667-10\n",
       "9       어야가자애견카페                   📍 서울특별시 강남구 역삼동 662-1\n",
       "10     개러리아 삼성본점                    📍 서울특별시 강남구 삼성동 9-16\n",
       "11  글램독 그라운드 삼성점  📍 서울특별시 강남구 삼성동 152-69 1층 글램독 그라운드 삼성점\n",
       "12      멍돌핀 애견카페           📍 서울특별시 강남구 논현동 170-28 2층 멍돌핀\n",
       "13         드도그카페         📍 서울특별시 강남구 삼성동 150-19 2층 드도그카페\n",
       "14    애니멀고파크 논현점                  📍 서울특별시 강남구 논현동 256-14\n",
       "15         놀로스퀘어                📍 서울특별시 강남구 청담동 46 놀로스퀘어\n",
       "16         감성놀이터                    📍 서울특별시 동작구 상도로58길 4\n",
       "17     두젠틀장승배기역점                   📍 서울특별시 동작구 상도동 26-27\n",
       "18          웰컴댕댕           📍 서울특별시 동작구 대방동 17-20 2층 웰컴댕댕\n",
       "19          한끼멍냥              📍 서울특별시 동작구 신대방동 692-65 2층"
      ]
     },
     "execution_count": 100,
     "metadata": {},
     "output_type": "execute_result"
    }
   ],
   "source": [
    "dog_cafe_result"
   ]
  },
  {
   "cell_type": "code",
   "execution_count": 101,
   "id": "841e8ea5",
   "metadata": {},
   "outputs": [],
   "source": [
    "dog_cafe_result.to_csv(\"./data/애견카페.csv\")"
   ]
  },
  {
   "cell_type": "code",
   "execution_count": null,
   "id": "127a487e",
   "metadata": {},
   "outputs": [],
   "source": []
  }
 ],
 "metadata": {
  "kernelspec": {
   "display_name": "eduvenv",
   "language": "python",
   "name": "eduvenv"
  },
  "language_info": {
   "codemirror_mode": {
    "name": "ipython",
    "version": 3
   },
   "file_extension": ".py",
   "mimetype": "text/x-python",
   "name": "python",
   "nbconvert_exporter": "python",
   "pygments_lexer": "ipython3",
   "version": "3.9.15"
  }
 },
 "nbformat": 4,
 "nbformat_minor": 5
}
